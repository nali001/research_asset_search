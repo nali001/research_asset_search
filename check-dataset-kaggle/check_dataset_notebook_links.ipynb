{
 "cells": [
  {
   "cell_type": "code",
   "execution_count": 17,
   "metadata": {},
   "outputs": [],
   "source": [
    "import os, glob, sys\n",
    "import pandas as pd\n",
    "import numpy as np\n",
    "import json\n",
    "from tqdm import tqdm\n",
    "import re\n",
    "from time import sleep\n",
    "from kaggle.api.kaggle_api_extended import KaggleApi"
   ]
  },
  {
   "cell_type": "code",
   "execution_count": 2,
   "metadata": {},
   "outputs": [],
   "source": [
    "api = KaggleApi()\n",
    "api.authenticate()"
   ]
  },
  {
   "cell_type": "code",
   "execution_count": 4,
   "metadata": {},
   "outputs": [],
   "source": [
    "datasets = glob.glob('../../data/dataset/Kaggle/PWC/*.json')"
   ]
  },
  {
   "cell_type": "code",
   "execution_count": 5,
   "metadata": {},
   "outputs": [],
   "source": [
    "kaggle_raw_notebooks = glob.glob(\"../../data/notebook/Kaggle/PWC/raw_notebooks/*.ipynb\")\n",
    "kaggle_processed_notebook_contents = glob.glob(\"../../data/notebook/Kaggle/PWC/preprocessed_content/notebooks_contents/*\")\n",
    "kaggle_processed_notebook_summaries = glob.glob(\"../../data/notebook/Kaggle/PWC/preprocessed_content/notebooks_summaries/*\")"
   ]
  },
  {
   "cell_type": "code",
   "execution_count": 6,
   "metadata": {},
   "outputs": [
    {
     "name": "stdout",
     "output_type": "stream",
     "text": [
      "29663 119252 119217 119217\n"
     ]
    }
   ],
   "source": [
    "print(len(datasets), len(kaggle_raw_notebooks), len(kaggle_processed_notebook_summaries), len(kaggle_processed_notebook_contents))"
   ]
  },
  {
   "cell_type": "code",
   "execution_count": 7,
   "metadata": {},
   "outputs": [],
   "source": [
    "ds1 = json.load(open(datasets[100]))"
   ]
  },
  {
   "cell_type": "code",
   "execution_count": 8,
   "metadata": {},
   "outputs": [
    {
     "data": {
      "text/plain": [
       "'YOLOv3 for Care Symbols'"
      ]
     },
     "execution_count": 8,
     "metadata": {},
     "output_type": "execute_result"
    }
   ],
   "source": [
    "ds1['title']"
   ]
  },
  {
   "cell_type": "code",
   "execution_count": 9,
   "metadata": {},
   "outputs": [
    {
     "data": {
      "text/plain": [
       "'enisimsar/yolov3-for-care-symbols'"
      ]
     },
     "execution_count": 9,
     "metadata": {},
     "output_type": "execute_result"
    }
   ],
   "source": [
    "ds1['ref']"
   ]
  },
  {
   "cell_type": "code",
   "execution_count": 10,
   "metadata": {},
   "outputs": [],
   "source": [
    "related_kernels = api.kernels_list(dataset=ds1['ref'])"
   ]
  },
  {
   "cell_type": "code",
   "execution_count": 11,
   "metadata": {},
   "outputs": [
    {
     "data": {
      "text/plain": [
       "kaggle.models.kaggle_models_extended.Kernel"
      ]
     },
     "execution_count": 11,
     "metadata": {},
     "output_type": "execute_result"
    }
   ],
   "source": [
    "type(related_kernels[0])"
   ]
  },
  {
   "cell_type": "code",
   "execution_count": 12,
   "metadata": {},
   "outputs": [
    {
     "name": "stdout",
     "output_type": "stream",
     "text": [
      "{'languageNullable': None, 'kernelTypeNullable': None, 'isPrivateNullable': None, 'enableGpuNullable': None, 'enableTpuNullable': None, 'enableInternetNullable': None, 'id': 0, 'ref': 'kerneler/starter-yolov3-for-care-symbols-c4c46a10-2', 'title': 'Starter: YOLOv3 for Care Symbols c4c46a10-2', 'author': 'Kaggle Kerneler', 'slug': '', 'lastRunTime': datetime.datetime(2019, 6, 9, 18, 18, 25), 'language': '', 'hasLanguage': False, 'kernelType': '', 'hasKernelType': False, 'isPrivate': False, 'hasIsPrivate': False, 'enableGpu': False, 'hasEnableGpu': False, 'enableTpu': False, 'hasEnableTpu': False, 'enableInternet': False, 'hasEnableInternet': False, 'categoryIds': [], 'datasetDataSources': [], 'kernelDataSources': [], 'competitionDataSources': [], 'modelDataSources': [], 'totalVotes': 1}\n"
     ]
    }
   ],
   "source": [
    "print(related_kernels[0].__dict__)"
   ]
  },
  {
   "cell_type": "code",
   "execution_count": 38,
   "metadata": {},
   "outputs": [],
   "source": [
    "nb1 = json.load(open(kaggle_raw_notebooks[100]))"
   ]
  },
  {
   "cell_type": "code",
   "execution_count": 39,
   "metadata": {},
   "outputs": [
    {
     "data": {
      "text/plain": [
       "dict_keys(['cells', 'metadata', 'nbformat', 'nbformat_minor'])"
      ]
     },
     "execution_count": 39,
     "metadata": {},
     "output_type": "execute_result"
    }
   ],
   "source": [
    "nb1.keys()"
   ]
  },
  {
   "cell_type": "code",
   "execution_count": 40,
   "metadata": {},
   "outputs": [
    {
     "data": {
      "text/plain": [
       "{'kernelspec': {'language': 'python',\n",
       "  'display_name': 'Python 3',\n",
       "  'name': 'python3'},\n",
       " 'language_info': {'pygments_lexer': 'ipython3',\n",
       "  'nbconvert_exporter': 'python',\n",
       "  'version': '3.6.4',\n",
       "  'file_extension': '.py',\n",
       "  'codemirror_mode': {'name': 'ipython', 'version': 3},\n",
       "  'name': 'python',\n",
       "  'mimetype': 'text/x-python'}}"
      ]
     },
     "execution_count": 40,
     "metadata": {},
     "output_type": "execute_result"
    }
   ],
   "source": [
    "nb1['metadata']"
   ]
  },
  {
   "cell_type": "code",
   "execution_count": 13,
   "metadata": {},
   "outputs": [],
   "source": [
    "nb_download_log = pd.read_csv(\"../../data/notebook/Kaggle/PWC_logs_26_sep_2023/pwc_download_log.csv\")"
   ]
  },
  {
   "cell_type": "code",
   "execution_count": 14,
   "metadata": {},
   "outputs": [
    {
     "data": {
      "text/plain": [
       "Index(['query', 'title', 'kernel_ref'], dtype='object')"
      ]
     },
     "execution_count": 14,
     "metadata": {},
     "output_type": "execute_result"
    }
   ],
   "source": [
    "nb_download_log.keys()"
   ]
  },
  {
   "cell_type": "code",
   "execution_count": 46,
   "metadata": {},
   "outputs": [
    {
     "data": {
      "text/plain": [
       "{'kernelspec': {'language': 'python',\n",
       "  'display_name': 'Python 3',\n",
       "  'name': 'python3'},\n",
       " 'language_info': {'pygments_lexer': 'ipython3',\n",
       "  'nbconvert_exporter': 'python',\n",
       "  'version': '3.6.4',\n",
       "  'file_extension': '.py',\n",
       "  'codemirror_mode': {'name': 'ipython', 'version': 3},\n",
       "  'name': 'python',\n",
       "  'mimetype': 'text/x-python'}}"
      ]
     },
     "execution_count": 46,
     "metadata": {},
     "output_type": "execute_result"
    }
   ],
   "source": [
    "nb1['metadata']"
   ]
  },
  {
   "cell_type": "code",
   "execution_count": 48,
   "metadata": {},
   "outputs": [
    {
     "data": {
      "text/plain": [
       "dict_keys(['cells', 'metadata', 'nbformat', 'nbformat_minor'])"
      ]
     },
     "execution_count": 48,
     "metadata": {},
     "output_type": "execute_result"
    }
   ],
   "source": [
    "nb1.keys()"
   ]
  },
  {
   "cell_type": "code",
   "execution_count": 51,
   "metadata": {},
   "outputs": [
    {
     "data": {
      "text/plain": [
       "'kerneler/starter-yolov3-for-care-symbols-c4c46a10-2'"
      ]
     },
     "execution_count": 51,
     "metadata": {},
     "output_type": "execute_result"
    }
   ],
   "source": [
    "related_kernels[0].ref"
   ]
  },
  {
   "cell_type": "code",
   "execution_count": 53,
   "metadata": {},
   "outputs": [
    {
     "name": "stdout",
     "output_type": "stream",
     "text": [
      "{'languageNullable': None, 'kernelTypeNullable': None, 'isPrivateNullable': None, 'enableGpuNullable': None, 'enableTpuNullable': None, 'enableInternetNullable': None, 'id': 0, 'ref': 'kerneler/starter-yolov3-for-care-symbols-c4c46a10-2', 'title': 'Starter: YOLOv3 for Care Symbols c4c46a10-2', 'author': 'Kaggle Kerneler', 'slug': '', 'lastRunTime': datetime.datetime(2019, 6, 9, 18, 18, 25), 'language': '', 'hasLanguage': False, 'kernelType': '', 'hasKernelType': False, 'isPrivate': False, 'hasIsPrivate': False, 'enableGpu': False, 'hasEnableGpu': False, 'enableTpu': False, 'hasEnableTpu': False, 'enableInternet': False, 'hasEnableInternet': False, 'categoryIds': [], 'datasetDataSources': [], 'kernelDataSources': [], 'competitionDataSources': [], 'modelDataSources': [], 'totalVotes': 1}\n"
     ]
    }
   ],
   "source": [
    "print(related_kernels[0].__dict__)"
   ]
  },
  {
   "cell_type": "code",
   "execution_count": 56,
   "metadata": {},
   "outputs": [
    {
     "data": {
      "text/plain": [
       "{'languageNullable': None,\n",
       " 'kernelTypeNullable': None,\n",
       " 'isPrivateNullable': None,\n",
       " 'enableGpuNullable': None,\n",
       " 'enableTpuNullable': None,\n",
       " 'enableInternetNullable': None,\n",
       " 'id': 0,\n",
       " 'ref': 'kerneler/starter-yolov3-for-care-symbols-c4c46a10-2',\n",
       " 'title': 'Starter: YOLOv3 for Care Symbols c4c46a10-2',\n",
       " 'author': 'Kaggle Kerneler',\n",
       " 'slug': '',\n",
       " 'lastRunTime': datetime.datetime(2019, 6, 9, 18, 18, 25),\n",
       " 'language': '',\n",
       " 'hasLanguage': False,\n",
       " 'kernelType': '',\n",
       " 'hasKernelType': False,\n",
       " 'isPrivate': False,\n",
       " 'hasIsPrivate': False,\n",
       " 'enableGpu': False,\n",
       " 'hasEnableGpu': False,\n",
       " 'enableTpu': False,\n",
       " 'hasEnableTpu': False,\n",
       " 'enableInternet': False,\n",
       " 'hasEnableInternet': False,\n",
       " 'categoryIds': [],\n",
       " 'datasetDataSources': [],\n",
       " 'kernelDataSources': [],\n",
       " 'competitionDataSources': [],\n",
       " 'modelDataSources': [],\n",
       " 'totalVotes': 1}"
      ]
     },
     "execution_count": 56,
     "metadata": {},
     "output_type": "execute_result"
    }
   ],
   "source": [
    "related_kernels[0].__dict__"
   ]
  },
  {
   "cell_type": "code",
   "execution_count": 65,
   "metadata": {},
   "outputs": [
    {
     "data": {
      "text/plain": [
       "'../../data/notebook/Kaggle/PWC/preprocessed_content/notebooks_summaries\\\\NB_003693cb7cc9f441b58a73d910bcdc7f4ff5451c268a589fa1366358d6b8ac89.json'"
      ]
     },
     "execution_count": 65,
     "metadata": {},
     "output_type": "execute_result"
    }
   ],
   "source": [
    "kaggle_processed_notebook_summaries[100]"
   ]
  },
  {
   "cell_type": "code",
   "execution_count": 66,
   "metadata": {},
   "outputs": [
    {
     "data": {
      "text/plain": [
       "'NB_003693cb7cc9f441b58a73d910bcdc7f4ff5451c268a589fa1366358d6b8ac89.json'"
      ]
     },
     "execution_count": 66,
     "metadata": {},
     "output_type": "execute_result"
    }
   ],
   "source": [
    "os.path.basename(kaggle_processed_notebook_summaries[100])"
   ]
  },
  {
   "cell_type": "code",
   "execution_count": 68,
   "metadata": {},
   "outputs": [],
   "source": [
    "raw_notebook_path = os.path.dirname(kaggle_raw_notebooks[100])"
   ]
  },
  {
   "cell_type": "code",
   "execution_count": 69,
   "metadata": {},
   "outputs": [
    {
     "data": {
      "text/plain": [
       "True"
      ]
     },
     "execution_count": 69,
     "metadata": {},
     "output_type": "execute_result"
    }
   ],
   "source": [
    "os.path.exists(os.path.join(raw_notebook_path, os.path.basename(kaggle_processed_notebook_summaries[100])))"
   ]
  },
  {
   "cell_type": "code",
   "execution_count": 70,
   "metadata": {},
   "outputs": [],
   "source": [
    "summary_notebook_path = os.path.dirname(kaggle_processed_notebook_summaries[100])"
   ]
  },
  {
   "cell_type": "code",
   "execution_count": 72,
   "metadata": {},
   "outputs": [],
   "source": [
    "sm1 = json.load(open(kaggle_processed_notebook_summaries[100]))"
   ]
  },
  {
   "cell_type": "code",
   "execution_count": 73,
   "metadata": {},
   "outputs": [
    {
     "data": {
      "text/plain": [
       "{'docid': 'NB_003693cb7cc9f441b58a73d910bcdc7f4ff5451c268a589fa1366358d6b8ac89',\n",
       " 'source_id': 'shweta2407/face-recognition-haardectector-face-recognition',\n",
       " 'stargazers_count': None,\n",
       " 'forks_count': None,\n",
       " 'size': None,\n",
       " 'name': 'Face Recognition(HaarDectector & face_recognition)',\n",
       " 'html_url': 'https://www.kaggle.com/code/shweta2407/face-recognition-haardectector-face-recognition',\n",
       " 'git_url': None,\n",
       " 'source': 'Kaggle',\n",
       " 'code_file': 'face-recognition-haardectector-face-recognition.ipynb',\n",
       " 'description': '# HAAR Cascade Face Detector Using OpenCV and Python\\nIn this notebook, we will create a very simple face detector using HAAR Cascade. Cascade is an xml file that contains data to detect object from the images. I have uploaded haar cascade xml file.\\n## What is HAAR Cascade?\\nHaar Cascade classifier is an effective object detection approach which was proposed by Paul Viola and Michael Jones in their paper, [“Rapid Object Detection using a Boosted Cascade of Simple Features”]( ) in 2001. \\nCascading means several classifiers are concatenated to each other, each classifiier uses the output collected from the previous classifier as an additional information. It is a kind of ensemble learning.\\nCascading classifiers are trained with several hundred \"positive\" sample views of a particular object and arbitrary \"negative\" images of the same size. After the classifier is trained it can be applied to a region of an image and detect the object in question. These are made to operate fast on low-power CPUs such as cameras and phones. \\n## Why it is named \"Haar\"? \\nInitially Viola and Jones, they started working with RGB pixels values at each and every pixel of image, but it made the task of feature calculation computationally expensive. Viola and Jones used Haar wavelet and developed Haar-like features. \\nA Haar-like feature considers adjacent rectangular regions at a specific location in a detection window, sums up the pixel intensities in each region and calculates the difference between these sums. This difference is then used to categorize subsections of an image. For example, with a human face, it is a common observation that among all faces the region of the eyes is darker than the region of the cheeks. Therefore, a common Haar feature for face detection is a set of two adjacent rectangles that lie above the eye and the cheek region.\\n### **Alfred Haar was a mathematician who proposed Haar sequence/wavelet. Hence the name Haar.**\\nFollowing are the links that can help you understand more-\\n**GitHub Repository**\\n# Importing Libraries\\n### Upload the image and cascade xml file\\nSo there are total 5 faces. Let\\'s see how the cascade performs on it.\\n**Ooops!!!! How come 6 faces ?**\\nSo along with the faces it has captured something else which is not face. It can be improved by changing scaling factor.\\n### After changing the scaling factor\\nThis time it is perfect. But does it perform same for other images also ? Let us see\\n### Applying cascade on Chris Hemsworth Images\\n# First Picture\\nooooooo.....isn\\'t he hot ????\\n# Second Picture\\nHere we got wrong, lets change the scaling factor to 1.5\\nYes, we got it now!!\\n1.5 scaling factor didn\\'t work on it....Lets try it with 1.2\\nThat\\'s Good!!!\\n### So we see that sometimes it is 1.2 or 1.5 that detects the true face. So if you are given an image to detect how many faces are there? What should be the ideal scaling factor ?\\nWell, we can\\'t really say that any particular scaling factor is best, moreover it depends from image to image. Let us loop in range 1.1 to 1.9 and see what we get\\nAs we see here majority of the answers are two, hence there are two pictures.\\n#### Lets try with another one, the second pic in which chris is carrying a surfing boat\\nAs we can see majority of the answers are 1, hence only one face is there\\n# Test Image\\n## So we haven\\'t touched some of the pics lets us just use them as test data, let\\'s see whether our method of detecting face is correct or not\\n# OOOOOOOPSSSSSS!!!!!!\\n### NOOOOOOOOOOOOOOOOOOOOO......its still giving errors.\\nLet us try with only scaling factor 1.2\\nIt didn\\'t capture the image yet......why ??? coz this cascade xml is for capturing the frontal face\\n# Face Recognition\\nWe have detected a face using cascade xml file. Now our task is to compare the faces i.e. whether the faces in the two images are similar or not. So we will make face encodings of some of the pictures of chris hemsworth and test it with one single image of chris hemsworth and will se whether it matches the faces in both the images or not. All the pictures of chris in the folder are different.\\n##### we will use face_recognition python package here to implement this task. For more info on this package \\nWe will use all the images except chris_12.jpg. We will keep it for testing\\n## Configuring TPU\\n## Make the encodings\\n## make encoding for chris_12.jpg\\n## add the list of encodings of various images and \\n### So our chris_12 image has only matched with chris_1 image\\n### It didn\\'t match with image 4 and 7\\n## So here we conclude that none of them are really very good, but yeah for small purposes it\\'s not that bad also.\\n',\n",
       " 'language': 'python',\n",
       " 'num_cells': 79,\n",
       " 'num_code_cells': 39,\n",
       " 'num_md_cells': 40,\n",
       " 'len_md_text': 4952}"
      ]
     },
     "execution_count": 73,
     "metadata": {},
     "output_type": "execute_result"
    }
   ],
   "source": [
    "sm1"
   ]
  },
  {
   "cell_type": "code",
   "execution_count": 15,
   "metadata": {},
   "outputs": [],
   "source": [
    "def map_nb_path_to_kernel_ref(summaries):\n",
    "    kernel_ref_nb_name_map = {}\n",
    "    for summary_path in summaries:\n",
    "        summary = json.load(open(summary_path))\n",
    "        kernel_ref_nb_name_map[summary['source_id']] = os.path.basename(summary_path)\n",
    "    return kernel_ref_nb_name_map\n",
    "    "
   ]
  },
  {
   "cell_type": "code",
   "execution_count": 16,
   "metadata": {},
   "outputs": [],
   "source": [
    "kernel_ref_nb_name_map = map_nb_path_to_kernel_ref(kaggle_processed_notebook_summaries)"
   ]
  },
  {
   "cell_type": "code",
   "execution_count": 32,
   "metadata": {},
   "outputs": [],
   "source": [
    "json.dump(kernel_ref_nb_name_map, open(\"../../data/notebook/Kaggle/kernel_ref_nb_name_map.json\", 'w'))"
   ]
  },
  {
   "cell_type": "code",
   "execution_count": 76,
   "metadata": {},
   "outputs": [
    {
     "data": {
      "text/plain": [
       "119217"
      ]
     },
     "execution_count": 76,
     "metadata": {},
     "output_type": "execute_result"
    }
   ],
   "source": [
    "len(kernel_ref_nb_name_map)"
   ]
  },
  {
   "cell_type": "code",
   "execution_count": 77,
   "metadata": {},
   "outputs": [],
   "source": [
    "# build a map from dataset kernel ref to kernel refs"
   ]
  },
  {
   "cell_type": "code",
   "execution_count": 26,
   "metadata": {},
   "outputs": [],
   "source": [
    "def map_dataset_to_kernel_refs(datasets):\n",
    "    dataset_kernel_refs_map = {}\n",
    "    for dataset_path in tqdm(datasets, total=len(datasets)):\n",
    "        dataset = json.load(open(dataset_path))\n",
    "        dataset_kernel_refs_map[dataset['ref']] = [kernel.ref for kernel in api.kernels_list(dataset=dataset['ref'])]\n",
    "        sleep(np.random.random()/10)\n",
    "    return dataset_kernel_refs_map"
   ]
  },
  {
   "cell_type": "code",
   "execution_count": 19,
   "metadata": {},
   "outputs": [
    {
     "name": "stderr",
     "output_type": "stream",
     "text": [
      "100%|██████████| 100/100 [02:21<00:00,  1.42s/it]\n"
     ]
    }
   ],
   "source": [
    "dataset_kernel_refs_map = map_dataset_to_kernel_refs(datasets[:100])"
   ]
  },
  {
   "cell_type": "code",
   "execution_count": 28,
   "metadata": {},
   "outputs": [],
   "source": [
    "json.dump(dataset_kernel_refs_map, open(\"../../data/dataset/Kaggle/dataset_kernel_refs_map.json\", 'w'))"
   ]
  },
  {
   "cell_type": "code",
   "execution_count": 29,
   "metadata": {},
   "outputs": [],
   "source": [
    "dataset_nb_map = {}\n",
    "for ds, kernels in dataset_kernel_refs_map.items():\n",
    "    dataset_nb_map[ds] = []\n",
    "    for kernel in kernels:\n",
    "        if kernel in kernel_ref_nb_name_map:\n",
    "            dataset_nb_map[ds].append(kernel_ref_nb_name_map[kernel])"
   ]
  },
  {
   "cell_type": "code",
   "execution_count": 31,
   "metadata": {},
   "outputs": [
    {
     "data": {
      "text/plain": [
       "74"
      ]
     },
     "execution_count": 31,
     "metadata": {},
     "output_type": "execute_result"
    }
   ],
   "source": [
    "sum([len(v) for k, v in dataset_nb_map.items()])"
   ]
  },
  {
   "cell_type": "code",
   "execution_count": 33,
   "metadata": {},
   "outputs": [],
   "source": [
    "# map notebook file to dataset file"
   ]
  },
  {
   "cell_type": "code",
   "execution_count": null,
   "metadata": {},
   "outputs": [],
   "source": []
  }
 ],
 "metadata": {
  "kernelspec": {
   "display_name": "qlib",
   "language": "python",
   "name": "python3"
  },
  "language_info": {
   "codemirror_mode": {
    "name": "ipython",
    "version": 3
   },
   "file_extension": ".py",
   "mimetype": "text/x-python",
   "name": "python",
   "nbconvert_exporter": "python",
   "pygments_lexer": "ipython3",
   "version": "3.8.18"
  }
 },
 "nbformat": 4,
 "nbformat_minor": 2
}
