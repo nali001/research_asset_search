{
 "cells": [
  {
   "cell_type": "code",
   "execution_count": 2,
   "id": "396752b5-ab05-4163-8088-199bd06298c4",
   "metadata": {
    "tags": []
   },
   "outputs": [],
   "source": [
    "import json\n",
    "\n",
    "my_string = 'This is\\na multi-line\\nstring'\n",
    "filename = 'my_file.json'\n",
    "\n",
    "# Dump the string to a file with newlines preserved\n",
    "with open(filename, 'w') as f:\n",
    "    json.dump(my_string, f, ensure_ascii=False, indent=None)\n"
   ]
  },
  {
   "cell_type": "code",
   "execution_count": 9,
   "id": "2c5168cd-a8fb-4688-b7cf-676f6a020b72",
   "metadata": {},
   "outputs": [],
   "source": [
    "def get_kaggle_metadata(): \n",
    "    pass\n",
    "def get_github_metadata(): \n",
    "    pass \n",
    "def get_default_metadata(): \n",
    "    pass\n",
    "actions = {\n",
    "            'Kaggle': get_kaggle_metadata,\n",
    "            'Github': get_github_metadata\n",
    "        }\n",
    "i = 'kk'\n",
    "action_func = actions.get(i, get_default_metadata)"
   ]
  },
  {
   "cell_type": "code",
   "execution_count": 10,
   "id": "e1837ede-2851-4b65-ac11-d297cda6e50c",
   "metadata": {
    "tags": []
   },
   "outputs": [
    {
     "data": {
      "text/plain": [
       "<function __main__.get_default_metadata()>"
      ]
     },
     "execution_count": 10,
     "metadata": {},
     "output_type": "execute_result"
    }
   ],
   "source": [
    "action_func"
   ]
  },
  {
   "cell_type": "code",
   "execution_count": null,
   "id": "bc3d4b5c-7f38-4ff5-8614-57095294c5cd",
   "metadata": {},
   "outputs": [],
   "source": [
    "\n",
    "mapped_metadata = {}\n",
    "for new_key, old_keys in GITHUB_METADATA_MAPPING.items():\n",
    "    mapped_value = None\n",
    "    for old_key in old_keys:\n",
    "        if old_key in metadata:\n",
    "            mapped_value = metadata[old_key]\n",
    "            break\n",
    "    mapped_metadata[new_key] = mapped_value\n"
   ]
  },
  {
   "cell_type": "code",
   "execution_count": 11,
   "id": "14d2743b-6ea8-42e5-94a0-948896275b23",
   "metadata": {
    "tags": []
   },
   "outputs": [
    {
     "data": {
      "text/plain": [
       "{'ss': 'jj'}"
      ]
     },
     "execution_count": 11,
     "metadata": {},
     "output_type": "execute_result"
    }
   ],
   "source": [
    "a = {}\n",
    "a['ss'] = 'jj'\n",
    "a"
   ]
  },
  {
   "cell_type": "code",
   "execution_count": null,
   "id": "adb91ff9-bfa5-42f7-9b99-237bf892e76d",
   "metadata": {},
   "outputs": [],
   "source": [
    "GITHUB_MATADATA_MAPPING = {\n",
    "    'docid': ['docid'],\n",
    "    \"stargazers_count\": [], \n",
    "    \"forks_count\": [], \n",
    "    'size': ['size'],\n",
    "    'html_url': ['html_url'],\n",
    "    'git_url': ['git_url'], \n",
    "    'source': [], \n",
    "    'code_file': ['name'], \n",
    "}\n",
    "\n",
    "mapped_metadata = {}\n",
    "for new_key, old_keys in GITHUB_METADATA_MAPPING.items():\n",
    "    mapped_value = None\n",
    "    for old_key in old_keys:\n",
    "        if old_key in metadata:\n",
    "            mapped_value = metadata[old_key]\n",
    "            break\n",
    "    mapped_metadata[new_key] = mapped_value\n"
   ]
  }
 ],
 "metadata": {
  "kernelspec": {
   "display_name": "Python 3 (ipykernel)",
   "language": "python",
   "name": "python3"
  },
  "language_info": {
   "codemirror_mode": {
    "name": "ipython",
    "version": 3
   },
   "file_extension": ".py",
   "mimetype": "text/x-python",
   "name": "python",
   "nbconvert_exporter": "python",
   "pygments_lexer": "ipython3",
   "version": "3.8.16"
  }
 },
 "nbformat": 4,
 "nbformat_minor": 5
}
