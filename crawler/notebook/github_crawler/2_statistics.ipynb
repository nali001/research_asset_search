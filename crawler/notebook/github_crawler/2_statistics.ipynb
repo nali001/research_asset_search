{
 "cells": [
  {
   "cell_type": "markdown",
   "id": "1e2c619c-c0d5-448f-bc3e-68d733cac0f5",
   "metadata": {},
   "source": [
    "# Statistics"
   ]
  },
  {
   "cell_type": "code",
   "execution_count": 1,
   "id": "2b61784d-b1ec-40fd-a129-fffb27b9346f",
   "metadata": {
    "tags": []
   },
   "outputs": [],
   "source": [
    "import os"
   ]
  },
  {
   "cell_type": "code",
   "execution_count": 2,
   "id": "2c367b8f-1a53-433c-b1fa-423452b61aff",
   "metadata": {
    "tags": []
   },
   "outputs": [],
   "source": [
    "COMBINATIONS_ENTITY_FILE = '../query/questions/collected_queries_combinations.csv'\n",
    "COMBINATIONS_REPO_FILE = 'statistics/github_repos_combinations.csv'\n",
    "COMBINATIONS_ALL_FILE = 'statistics/github_repos_entities.csv'"
   ]
  },
  {
   "cell_type": "markdown",
   "id": "913116b3-a30b-441c-bc09-c6d20eb9e087",
   "metadata": {},
   "source": [
    "## The number of notebooks"
   ]
  },
  {
   "cell_type": "code",
   "execution_count": 2,
   "id": "f2671982-51d5-4877-b8bd-0e60c5fe796d",
   "metadata": {
    "tags": []
   },
   "outputs": [
    {
     "name": "stdout",
     "output_type": "stream",
     "text": [
      "Number of .ipynb files in notebook_contents: 5613\n"
     ]
    }
   ],
   "source": [
    "# Count the number of notebooks\n",
    "def count_ipynb_files(directory):\n",
    "    count = 0\n",
    "    for root, dirs, files in os.walk(directory):\n",
    "        for file in files:\n",
    "            if file.endswith('.ipynb'):\n",
    "                count += 1\n",
    "    return count\n",
    "\n",
    "# Example usage\n",
    "directory = 'notebook_contents'\n",
    "count = count_ipynb_files(directory)\n",
    "print(f'Number of .ipynb files in {directory}: {count}')\n"
   ]
  },
  {
   "cell_type": "markdown",
   "id": "87386917-c1e5-41e8-80c8-97fd25354fb5",
   "metadata": {
    "tags": []
   },
   "source": [
    "## The number of repos and entities"
   ]
  },
  {
   "cell_type": "code",
   "execution_count": 6,
   "id": "f282c250-c12d-4d62-95b4-02be16d3cef9",
   "metadata": {
    "tags": []
   },
   "outputs": [],
   "source": [
    "import pandas as pd\n",
    "\n",
    "# Load the first CSV file into a Pandas data frame\n",
    "df1 = pd.read_csv(COMBINATIONS_ENTITY_FILE)\n",
    "\n",
    "# Load the second CSV file into a Pandas data frame\n",
    "df2 = pd.read_csv(COMBINATIONS_REPO_FILE)\n",
    "\n",
    "# Merge the two data frames using a common column, in this case, the 'query' column\n",
    "merged_df = pd.merge(df1, df2, on='query')\n",
    "\n",
    "# Save the merged data frame to a new CSV file named 'merged_file.csv'\n",
    "merged_df.to_csv(COMBINATIONS_ALL_FILE, index=False)\n"
   ]
  },
  {
   "cell_type": "markdown",
   "id": "c7589fdd-0c89-499b-93d7-d6699e7832a5",
   "metadata": {},
   "source": [
    "## Plot the repo numbers grouped by num_entities"
   ]
  },
  {
   "cell_type": "code",
   "execution_count": 11,
   "id": "2d4fe81d-5651-4457-b925-a17536d09c43",
   "metadata": {
    "tags": []
   },
   "outputs": [
    {
     "data": {
      "image/png": "[encoded data removed]",
      "text/plain": [
       "<Figure size 500x300 with 1 Axes>"
      ]
     },
     "metadata": {},
     "output_type": "display_data"
    }
   ],
   "source": [
    "import pandas as pd\n",
    "import matplotlib.pyplot as plt\n",
    "\n",
    "# Load the data\n",
    "df = pd.read_csv(COMBINATIONS_ALL_FILE)\n",
    "\n",
    "# drop rows where 'value' column equals 1\n",
    "df = df[df['num_entities'] != -1]\n",
    "\n",
    "# Group the data by the number of entities\n",
    "grouped = df.groupby('num_entities')\n",
    "\n",
    "# Generate the box plot\n",
    "fig, ax = plt.subplots(figsize=(5, 3))\n",
    "ax.boxplot([grouped.get_group(name)['repo_count'] for name in grouped.groups], showfliers=False, sym='')\n",
    "\n",
    "# Set the x-axis labels and title\n",
    "ax.set_xticklabels(grouped.groups.keys())\n",
    "ax.set_xlabel('# entities in the query')\n",
    "ax.set_ylabel('# returned repositories')\n",
    "# ax.set_title('Repository Counts by Entity Combinations')\n",
    "\n",
    "# Save the plot to a file\n",
    "plt.savefig('statistics/repo_count_by_num_entities.png', bbox_inches='tight')\n"
   ]
  },
  {
   "cell_type": "code",
   "execution_count": null,
   "id": "7eab7a5f-9b8e-4208-a900-aae989239107",
   "metadata": {},
   "outputs": [],
   "source": []
  }
 ],
 "metadata": {
  "kernelspec": {
   "display_name": "Python 3 (ipykernel)",
   "language": "python",
   "name": "python3"
  },
  "language_info": {
   "codemirror_mode": {
    "name": "ipython",
    "version": 3
   },
   "file_extension": ".py",
   "mimetype": "text/x-python",
   "name": "python",
   "nbconvert_exporter": "python",
   "pygments_lexer": "ipython3",
   "version": "3.8.16"
  }
 },
 "nbformat": 4,
 "nbformat_minor": 5
}
