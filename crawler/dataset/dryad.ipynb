{
 "cells": [
  {
   "cell_type": "code",
   "execution_count": 13,
   "metadata": {},
   "outputs": [],
   "source": [
    "import requests\n",
    "\n",
    "def search_dryad_datasets(query=None, size=100): \n",
    "        ''' Search for datasets in Dryad using keyword queries. \n",
    "        Request example: https://datadryad.org/api/v2/search?page=1&per_page=100&q=link%20prediction\n",
    "        Args: \n",
    "            - query: str. Keywrods for searching datasets\n",
    "            - size: int. The number of returned datasets\n",
    "        Return: \n",
    "            - hits: [{}]. Serializable dict of the returned dataset metadata records. \n",
    "        '''\n",
    "        # Search for datasets\n",
    "        api_url = \"https://datadryad.org/api/v2/search\"  # Replace with the actual API endpoint\n",
    "\n",
    "        per_page = 100\n",
    "        page_range = size%per_page+1\n",
    "        hits = []\n",
    "        \n",
    "        for page in range(1, page_range+1): \n",
    "            params = {\n",
    "            \"q\": query, \n",
    "            \"per_page\": per_page, \n",
    "            \"page\": page, \n",
    "            }\n",
    "\n",
    "            try:\n",
    "                response = requests.get(api_url, params=params)\n",
    "                response.raise_for_status()  # Raise an exception for bad requests\n",
    "\n",
    "                # Parse the JSON response\n",
    "                data = response.json()\n",
    "                datasets = data.get(\"_embedded\", {}).get(\"stash:datasets\", [])\n",
    "\n",
    "                print(f'Crawling page {page}') \n",
    "\n",
    "            except requests.exceptions.RequestException as e:\n",
    "                print(\"Error:\", e)            \n",
    "            \n",
    "            if len(datasets) == 0: \n",
    "                break\n",
    "            \n",
    "            else: \n",
    "                hits.extend(datasets)\n",
    "        return data\n"
   ]
  },
  {
   "cell_type": "code",
   "execution_count": 16,
   "metadata": {},
   "outputs": [
    {
     "name": "stdout",
     "output_type": "stream",
     "text": [
      "Crawling page 1\n"
     ]
    }
   ],
   "source": [
    "query='link prediction'\n",
    "hits = search_dryad_datasets(query=query, size=100)"
   ]
  },
  {
   "cell_type": "code",
   "execution_count": 19,
   "metadata": {},
   "outputs": [],
   "source": [
    "datasets = hits.get(\"_embedded\", {}).get(\"stash:datasets\", [])"
   ]
  },
  {
   "cell_type": "code",
   "execution_count": 22,
   "metadata": {},
   "outputs": [
    {
     "data": {
      "text/plain": [
       "'doi:10.5061/dryad.bk3j9kd6w'"
      ]
     },
     "execution_count": 22,
     "metadata": {},
     "output_type": "execute_result"
    }
   ],
   "source": [
    "datasets[0]['identifier']"
   ]
  },
  {
   "cell_type": "code",
   "execution_count": null,
   "metadata": {},
   "outputs": [],
   "source": []
  }
 ],
 "metadata": {
  "kernelspec": {
   "display_name": "notebooksearch",
   "language": "python",
   "name": "python3"
  },
  "language_info": {
   "codemirror_mode": {
    "name": "ipython",
    "version": 3
   },
   "file_extension": ".py",
   "mimetype": "text/x-python",
   "name": "python",
   "nbconvert_exporter": "python",
   "pygments_lexer": "ipython3",
   "version": "3.8.13"
  },
  "orig_nbformat": 4
 },
 "nbformat": 4,
 "nbformat_minor": 2
}
