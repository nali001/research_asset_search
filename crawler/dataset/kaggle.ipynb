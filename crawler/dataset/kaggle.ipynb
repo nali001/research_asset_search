{
 "cells": [
  {
   "cell_type": "code",
   "execution_count": 51,
   "metadata": {},
   "outputs": [
    {
     "name": "stdout",
     "output_type": "stream",
     "text": [
      "Found 20 datasets matching the query 'climate':\n",
      "Dataset: berkeleyearth/climate-change-earth-surface-temperature-data, Title: Climate Change: Earth Surface Temperature Data\n",
      "Dataset: sumanthvrao/daily-climate-time-series-data, Title: Daily Climate time series data\n",
      "Dataset: goyaladi/climate-insights-dataset, Title: Climate Insights Dataset\n",
      "Dataset: edqian/twitter-climate-change-sentiment-dataset, Title: Twitter Climate Change Sentiment Dataset\n",
      "Dataset: econdata/climate-change, Title: climate change\n",
      "Dataset: theworldbank/world-bank-climate-change-data, Title: World Bank Climate Change Data\n",
      "Dataset: mnassrib/jena-climate, Title: Jena Climate Dataset\n",
      "Dataset: sevgisarac/temperature-change, Title: Temperature change\n",
      "Dataset: thedevastator/the-relationship-between-crop-production-and-cli, Title: Crop Production & Climate Change\n",
      "Dataset: greegtitan/indonesia-climate, Title: Climate Data Daily IDN\n",
      "Dataset: ishgirwan/climate-change-faqs, Title: Climate Change FAQs\n",
      "Dataset: pavellexyr/the-reddit-climate-change-dataset, Title: The Reddit Climate Change Dataset\n",
      "Dataset: die9origephit/climate-change-tweets, Title: Climate Change Tweets\n",
      "Dataset: rickt15/10-years-of-climate-science-denial-on-rcgroups, Title: 10 Years of Climate Science Denial on RCGroups\n",
      "Dataset: brsdincer/ocean-data-climate-change-nasa, Title: OCEAN DATA / CLIMATE CHANGE / NASA\n",
      "Dataset: die9origephit/temperature-data-albany-new-york, Title: Climate Data - New York State\n",
      "Dataset: brsdincer/all-natural-disasters-19002021-eosdis, Title: ALL NATURAL DISASTERS 1900-2021 / EOSDIS\n",
      "Dataset: joseguzman/climate-sentiment-in-twitter, Title: Climate sentiment in twitter\n",
      "Dataset: brankokokanovic/wiki-climate, Title: Wiki climate\n",
      "Dataset: konradb/deforestation-dataset, Title: Deforestation dataset\n"
     ]
    }
   ],
   "source": [
    "import os\n",
    "# from kaggle.api.kaggle_api_extended import KaggleApi\n",
    "import json\n",
    "import kaggle\n",
    "\n",
    "# Initialize the Kaggle API client\n",
    "# api = KaggleApi()\n",
    "# Replace 'YOUR_KAGGLE_USERNAME' and 'YOUR_KAGGLE_API_KEY' with your actual credentials\n",
    "# api.authenticate(username=\"YOUR_KAGGLE_USERNAME\", key=\"YOUR_KAGGLE_API_KEY\")\n",
    "\n",
    "def search_datasets(query, page=1):\n",
    "    try:\n",
    "        # Search for datasets\n",
    "        datasets = kaggle.api.dataset_list(search=query, page=page)\n",
    "        \n",
    "        print(f\"Found {len(datasets)} datasets matching the query '{query}':\")\n",
    "        for dataset in datasets:\n",
    "            print(f\"Dataset: {dataset.ref}, Title: {dataset.title}\")\n",
    "\n",
    "    except Exception as e:\n",
    "        print('Error:', str(e))\n",
    "    return datasets\n",
    "\n",
    "if __name__ == \"__main__\":\n",
    "    query = \"climate\"  # Replace with your search query\n",
    "    page = 1  # Adjust the number of results you want to retrieve\n",
    "\n",
    "    datasets = search_datasets(query, page)\n"
   ]
  },
  {
   "cell_type": "code",
   "execution_count": 52,
   "metadata": {},
   "outputs": [
    {
     "data": {
      "text/plain": [
       "kaggle.models.kaggle_models_extended.Dataset"
      ]
     },
     "execution_count": 52,
     "metadata": {},
     "output_type": "execute_result"
    }
   ],
   "source": [
    "type(datasets[1])"
   ]
  },
  {
   "cell_type": "code",
   "execution_count": null,
   "metadata": {},
   "outputs": [],
   "source": [
    "def convert_datetime(dt): \n",
    "    formatted_date = dt.strftime(\"%Y-%m-%d %H:%M:%S\")\n",
    "    return formatted_date"
   ]
  },
  {
   "cell_type": "code",
   "execution_count": 57,
   "metadata": {},
   "outputs": [
    {
     "ename": "TypeError",
     "evalue": "Object of type datetime is not JSON serializable",
     "output_type": "error",
     "traceback": [
      "\u001b[0;31m---------------------------------------------------------------------------\u001b[0m",
      "\u001b[0;31mTypeError\u001b[0m                                 Traceback (most recent call last)",
      "\u001b[1;32m/home/na/codes/notebook_search_docker/crawler/dataset/kaggle.ipynb Cell 3\u001b[0m line \u001b[0;36m<cell line: 3>\u001b[0;34m()\u001b[0m\n\u001b[1;32m      <a href='vscode-notebook-cell://ssh-remote%2Bmc6/home/na/codes/notebook_search_docker/crawler/dataset/kaggle.ipynb#W2sdnNjb2RlLXJlbW90ZQ%3D%3D?line=0'>1</a>\u001b[0m ds \u001b[39m=\u001b[39m datasets[\u001b[39m0\u001b[39m]\n\u001b[1;32m      <a href='vscode-notebook-cell://ssh-remote%2Bmc6/home/na/codes/notebook_search_docker/crawler/dataset/kaggle.ipynb#W2sdnNjb2RlLXJlbW90ZQ%3D%3D?line=1'>2</a>\u001b[0m ds_vars \u001b[39m=\u001b[39m \u001b[39mvars\u001b[39m(ds)\n\u001b[0;32m----> <a href='vscode-notebook-cell://ssh-remote%2Bmc6/home/na/codes/notebook_search_docker/crawler/dataset/kaggle.ipynb#W2sdnNjb2RlLXJlbW90ZQ%3D%3D?line=2'>3</a>\u001b[0m json\u001b[39m.\u001b[39;49mdumps(ds_vars, indent\u001b[39m=\u001b[39;49m\u001b[39m4\u001b[39;49m)\n",
      "File \u001b[0;32m~/miniconda3/envs/notebooksearch/lib/python3.8/json/__init__.py:234\u001b[0m, in \u001b[0;36mdumps\u001b[0;34m(obj, skipkeys, ensure_ascii, check_circular, allow_nan, cls, indent, separators, default, sort_keys, **kw)\u001b[0m\n\u001b[1;32m    232\u001b[0m \u001b[39mif\u001b[39;00m \u001b[39mcls\u001b[39m \u001b[39mis\u001b[39;00m \u001b[39mNone\u001b[39;00m:\n\u001b[1;32m    233\u001b[0m     \u001b[39mcls\u001b[39m \u001b[39m=\u001b[39m JSONEncoder\n\u001b[0;32m--> 234\u001b[0m \u001b[39mreturn\u001b[39;00m \u001b[39mcls\u001b[39;49m(\n\u001b[1;32m    235\u001b[0m     skipkeys\u001b[39m=\u001b[39;49mskipkeys, ensure_ascii\u001b[39m=\u001b[39;49mensure_ascii,\n\u001b[1;32m    236\u001b[0m     check_circular\u001b[39m=\u001b[39;49mcheck_circular, allow_nan\u001b[39m=\u001b[39;49mallow_nan, indent\u001b[39m=\u001b[39;49mindent,\n\u001b[1;32m    237\u001b[0m     separators\u001b[39m=\u001b[39;49mseparators, default\u001b[39m=\u001b[39;49mdefault, sort_keys\u001b[39m=\u001b[39;49msort_keys,\n\u001b[1;32m    238\u001b[0m     \u001b[39m*\u001b[39;49m\u001b[39m*\u001b[39;49mkw)\u001b[39m.\u001b[39;49mencode(obj)\n",
      "File \u001b[0;32m~/miniconda3/envs/notebooksearch/lib/python3.8/json/encoder.py:201\u001b[0m, in \u001b[0;36mJSONEncoder.encode\u001b[0;34m(self, o)\u001b[0m\n\u001b[1;32m    199\u001b[0m chunks \u001b[39m=\u001b[39m \u001b[39mself\u001b[39m\u001b[39m.\u001b[39miterencode(o, _one_shot\u001b[39m=\u001b[39m\u001b[39mTrue\u001b[39;00m)\n\u001b[1;32m    200\u001b[0m \u001b[39mif\u001b[39;00m \u001b[39mnot\u001b[39;00m \u001b[39misinstance\u001b[39m(chunks, (\u001b[39mlist\u001b[39m, \u001b[39mtuple\u001b[39m)):\n\u001b[0;32m--> 201\u001b[0m     chunks \u001b[39m=\u001b[39m \u001b[39mlist\u001b[39;49m(chunks)\n\u001b[1;32m    202\u001b[0m \u001b[39mreturn\u001b[39;00m \u001b[39m'\u001b[39m\u001b[39m'\u001b[39m\u001b[39m.\u001b[39mjoin(chunks)\n",
      "File \u001b[0;32m~/miniconda3/envs/notebooksearch/lib/python3.8/json/encoder.py:431\u001b[0m, in \u001b[0;36m_make_iterencode.<locals>._iterencode\u001b[0;34m(o, _current_indent_level)\u001b[0m\n\u001b[1;32m    429\u001b[0m     \u001b[39myield from\u001b[39;00m _iterencode_list(o, _current_indent_level)\n\u001b[1;32m    430\u001b[0m \u001b[39melif\u001b[39;00m \u001b[39misinstance\u001b[39m(o, \u001b[39mdict\u001b[39m):\n\u001b[0;32m--> 431\u001b[0m     \u001b[39myield from\u001b[39;00m _iterencode_dict(o, _current_indent_level)\n\u001b[1;32m    432\u001b[0m \u001b[39melse\u001b[39;00m:\n\u001b[1;32m    433\u001b[0m     \u001b[39mif\u001b[39;00m markers \u001b[39mis\u001b[39;00m \u001b[39mnot\u001b[39;00m \u001b[39mNone\u001b[39;00m:\n",
      "File \u001b[0;32m~/miniconda3/envs/notebooksearch/lib/python3.8/json/encoder.py:405\u001b[0m, in \u001b[0;36m_make_iterencode.<locals>._iterencode_dict\u001b[0;34m(dct, _current_indent_level)\u001b[0m\n\u001b[1;32m    403\u001b[0m         \u001b[39melse\u001b[39;00m:\n\u001b[1;32m    404\u001b[0m             chunks \u001b[39m=\u001b[39m _iterencode(value, _current_indent_level)\n\u001b[0;32m--> 405\u001b[0m         \u001b[39myield from\u001b[39;00m chunks\n\u001b[1;32m    406\u001b[0m \u001b[39mif\u001b[39;00m newline_indent \u001b[39mis\u001b[39;00m \u001b[39mnot\u001b[39;00m \u001b[39mNone\u001b[39;00m:\n\u001b[1;32m    407\u001b[0m     _current_indent_level \u001b[39m-\u001b[39m\u001b[39m=\u001b[39m \u001b[39m1\u001b[39m\n",
      "File \u001b[0;32m~/miniconda3/envs/notebooksearch/lib/python3.8/json/encoder.py:438\u001b[0m, in \u001b[0;36m_make_iterencode.<locals>._iterencode\u001b[0;34m(o, _current_indent_level)\u001b[0m\n\u001b[1;32m    436\u001b[0m         \u001b[39mraise\u001b[39;00m \u001b[39mValueError\u001b[39;00m(\u001b[39m\"\u001b[39m\u001b[39mCircular reference detected\u001b[39m\u001b[39m\"\u001b[39m)\n\u001b[1;32m    437\u001b[0m     markers[markerid] \u001b[39m=\u001b[39m o\n\u001b[0;32m--> 438\u001b[0m o \u001b[39m=\u001b[39m _default(o)\n\u001b[1;32m    439\u001b[0m \u001b[39myield from\u001b[39;00m _iterencode(o, _current_indent_level)\n\u001b[1;32m    440\u001b[0m \u001b[39mif\u001b[39;00m markers \u001b[39mis\u001b[39;00m \u001b[39mnot\u001b[39;00m \u001b[39mNone\u001b[39;00m:\n",
      "File \u001b[0;32m~/miniconda3/envs/notebooksearch/lib/python3.8/json/encoder.py:179\u001b[0m, in \u001b[0;36mJSONEncoder.default\u001b[0;34m(self, o)\u001b[0m\n\u001b[1;32m    160\u001b[0m \u001b[39mdef\u001b[39;00m \u001b[39mdefault\u001b[39m(\u001b[39mself\u001b[39m, o):\n\u001b[1;32m    161\u001b[0m     \u001b[39m\"\"\"Implement this method in a subclass such that it returns\u001b[39;00m\n\u001b[1;32m    162\u001b[0m \u001b[39m    a serializable object for ``o``, or calls the base implementation\u001b[39;00m\n\u001b[1;32m    163\u001b[0m \u001b[39m    (to raise a ``TypeError``).\u001b[39;00m\n\u001b[0;32m   (...)\u001b[0m\n\u001b[1;32m    177\u001b[0m \n\u001b[1;32m    178\u001b[0m \u001b[39m    \"\"\"\u001b[39;00m\n\u001b[0;32m--> 179\u001b[0m     \u001b[39mraise\u001b[39;00m \u001b[39mTypeError\u001b[39;00m(\u001b[39mf\u001b[39m\u001b[39m'\u001b[39m\u001b[39mObject of type \u001b[39m\u001b[39m{\u001b[39;00mo\u001b[39m.\u001b[39m\u001b[39m__class__\u001b[39m\u001b[39m.\u001b[39m\u001b[39m__name__\u001b[39m\u001b[39m}\u001b[39;00m\u001b[39m \u001b[39m\u001b[39m'\u001b[39m\n\u001b[1;32m    180\u001b[0m                     \u001b[39mf\u001b[39m\u001b[39m'\u001b[39m\u001b[39mis not JSON serializable\u001b[39m\u001b[39m'\u001b[39m)\n",
      "\u001b[0;31mTypeError\u001b[0m: Object of type datetime is not JSON serializable"
     ]
    }
   ],
   "source": [
    "ds = datasets[0]\n",
    "ds_vars = vars(ds)\n",
    "\n",
    "import json\n",
    "from datetime import datetime\n",
    "\n",
    "for \n",
    "data = {\"formatted_date\": formatted_date}\n",
    "\n",
    "# Serialize the dictionary to JSON\n",
    "json_data = json.dumps(data)\n",
    "\n",
    "print(json_data)\n",
    "\n",
    "json.dumps(ds_vars, indent=4)"
   ]
  },
  {
   "cell_type": "code",
   "execution_count": 68,
   "metadata": {},
   "outputs": [
    {
     "name": "stdout",
     "output_type": "stream",
     "text": [
      "{\n",
      "    \"subtitleNullable\": \"Exploring global temperatures since 1750\",\n",
      "    \"creatorNameNullable\": \"[Deleted User]\",\n",
      "    \"creatorUrlNullable\": \"del=9b4447dde85c6959\",\n",
      "    \"totalBytesNullable\": 88843537,\n",
      "    \"urlNullable\": \"https://www.kaggle.com/datasets/berkeleyearth/climate-change-earth-surface-temperature-data\",\n",
      "    \"licenseNameNullable\": \"CC BY-NC-SA 4.0\",\n",
      "    \"descriptionNullable\": null,\n",
      "    \"ownerNameNullable\": \"Berkeley Earth\",\n",
      "    \"ownerRefNullable\": \"berkeleyearth\",\n",
      "    \"titleNullable\": \"Climate Change: Earth Surface Temperature Data\",\n",
      "    \"currentVersionNumberNullable\": 2,\n",
      "    \"usabilityRatingNullable\": 0.7647059,\n",
      "    \"id\": 29,\n",
      "    \"ref\": \"berkeleyearth/climate-change-earth-surface-temperature-data\",\n",
      "    \"subtitle\": \"Exploring global temperatures since 1750\",\n",
      "    \"hasSubtitle\": true,\n",
      "    \"creatorName\": \"[Deleted User]\",\n",
      "    \"hasCreatorName\": true,\n",
      "    \"creatorUrl\": \"del=9b4447dde85c6959\",\n",
      "    \"hasCreatorUrl\": true,\n",
      "    \"totalBytes\": 88843537,\n",
      "    \"hasTotalBytes\": true,\n",
      "    \"url\": \"https://www.kaggle.com/datasets/berkeleyearth/climate-change-earth-surface-temperature-data\",\n",
      "    \"hasUrl\": true,\n",
      "    \"lastUpdated\": \"2017-05-01 17:29:10\",\n",
      "    \"downloadCount\": 119852,\n",
      "    \"isPrivate\": false,\n",
      "    \"isFeatured\": false,\n",
      "    \"licenseName\": \"CC BY-NC-SA 4.0\",\n",
      "    \"hasLicenseName\": true,\n",
      "    \"description\": \"\",\n",
      "    \"hasDescription\": false,\n",
      "    \"ownerName\": \"Berkeley Earth\",\n",
      "    \"hasOwnerName\": true,\n",
      "    \"ownerRef\": \"berkeleyearth\",\n",
      "    \"hasOwnerRef\": true,\n",
      "    \"kernelCount\": 609,\n",
      "    \"title\": \"Climate Change: Earth Surface Temperature Data\",\n",
      "    \"hasTitle\": true,\n",
      "    \"topicCount\": 0,\n",
      "    \"viewCount\": 983314,\n",
      "    \"voteCount\": 2168,\n",
      "    \"currentVersionNumber\": 2,\n",
      "    \"hasCurrentVersionNumber\": true,\n",
      "    \"usabilityRating\": 0.7647059,\n",
      "    \"hasUsabilityRating\": true,\n",
      "    \"tags\": [\n",
      "        null,\n",
      "        null,\n",
      "        null,\n",
      "        null\n",
      "    ],\n",
      "    \"files\": [],\n",
      "    \"versions\": [],\n",
      "    \"size\": \"85MB\"\n",
      "}\n"
     ]
    }
   ],
   "source": [
    "\n",
    "def convert_datetime(obj):\n",
    "    if isinstance(obj, datetime):\n",
    "        return obj.strftime('%Y-%m-%d %H:%M:%S')\n",
    "    \n",
    "\n",
    "def serialize_data(data):\n",
    "    return json.loads(json.dumps(data, default=convert_datetime))\n",
    "\n",
    "serialized_data = serialize_data(ds_vars)\n",
    "print(json.dumps(serialized_data, indent=4))"
   ]
  },
  {
   "cell_type": "code",
   "execution_count": 62,
   "metadata": {},
   "outputs": [
    {
     "name": "stdout",
     "output_type": "stream",
     "text": [
      "{\n",
      "    \"name\": \"John Doe\",\n",
      "    \"age\": 30,\n",
      "    \"dob\": \"1990-05-15 10:30:00\"\n",
      "}\n"
     ]
    }
   ],
   "source": [
    "import json\n",
    "from datetime import datetime\n",
    "\n",
    "def serialize_datetime(obj):\n",
    "    if isinstance(obj, datetime):\n",
    "        return obj.strftime('%Y-%m-%d %H:%M:%S')\n",
    "    else:\n",
    "        raise TypeError(\"Type not serializable\")\n",
    "\n",
    "def convert_datetime_to_serializable(data):\n",
    "    return json.loads(json.dumps(data, default=serialize_datetime))\n",
    "\n",
    "# Example dictionary with a datetime object\n",
    "data = {\n",
    "    \"name\": \"John Doe\",\n",
    "    \"age\": 30,\n",
    "    \"dob\": datetime(1990, 5, 15, 10, 30, 0)\n",
    "}\n",
    "\n",
    "# Convert datetime objects to serializable format\n",
    "serialized_data = convert_datetime_to_serializable(data)\n",
    "\n",
    "# Print the serialized data\n",
    "print(json.dumps(serialized_data, indent=4))\n"
   ]
  },
  {
   "cell_type": "code",
   "execution_count": 65,
   "metadata": {},
   "outputs": [
    {
     "data": {
      "text/plain": [
       "{'name': 'John Doe', 'age': 30, 'dob': '1990-05-15 10:30:00'}"
      ]
     },
     "execution_count": 65,
     "metadata": {},
     "output_type": "execute_result"
    }
   ],
   "source": [
    "serialized_data"
   ]
  },
  {
   "cell_type": "code",
   "execution_count": null,
   "metadata": {},
   "outputs": [],
   "source": []
  }
 ],
 "metadata": {
  "kernelspec": {
   "display_name": "notebooksearch",
   "language": "python",
   "name": "python3"
  },
  "language_info": {
   "codemirror_mode": {
    "name": "ipython",
    "version": 3
   },
   "file_extension": ".py",
   "mimetype": "text/x-python",
   "name": "python",
   "nbconvert_exporter": "python",
   "pygments_lexer": "ipython3",
   "version": "3.8.13"
  },
  "orig_nbformat": 4
 },
 "nbformat": 4,
 "nbformat_minor": 2
}
