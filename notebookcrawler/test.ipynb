{
 "cells": [
  {
   "cell_type": "code",
   "execution_count": 22,
   "metadata": {},
   "outputs": [],
   "source": [
    "import pandas as pd\n",
    "import json\n",
    "import os\n",
    "import numpy as np\n",
    "import time\n",
    "from datetime import timedelta\n",
    "\n",
    "import importlib\n",
    "\n",
    "from pymongo import MongoClient\n",
    "\n",
    "client = MongoClient('localhost', 27017) # change the ip and port to your mongo database's\n",
    "db = client['kagglecrawler']\n",
    "search_log_coll = db['search_log']\n",
    "download_log_coll = db['download_log']\n",
    "raw_notebook_coll = db['raw_notebooks']\n",
    "task_log_coll = db['task_log']\n",
    "notebook_metadata_coll = db['notebook_metadata_coll']\n",
    "QUERY_FILE = os.path.join(os.getcwd(), 'Queries/pwc_queries.csv')\n"
   ]
  },
  {
   "cell_type": "code",
   "execution_count": 62,
   "metadata": {},
   "outputs": [],
   "source": [
    "from kagglecrawler.distributed_notebook_crawling import KaggleNotebookCrawler\n",
    "\n",
    "# Create crawler\n",
    "kwargs = {\n",
    "    'search_log_coll': search_log_coll, \n",
    "    'download_log_coll': download_log_coll, \n",
    "    'task_log_coll': task_log_coll, \n",
    "    'raw_notebook_coll': raw_notebook_coll, \n",
    "    'notebook_metadata_coll': notebook_metadata_coll\n",
    "}\n",
    "crawler = KaggleNotebookCrawler(**kwargs)"
   ]
  },
  {
   "cell_type": "code",
   "execution_count": 63,
   "metadata": {},
   "outputs": [
    {
     "data": {
      "text/plain": [
       "Collection(Database(MongoClient(host=['localhost:27017'], document_class=dict, tz_aware=False, connect=True), 'kagglecrawler'), 'notebook_metadata_coll')"
      ]
     },
     "execution_count": 63,
     "metadata": {},
     "output_type": "execute_result"
    }
   ],
   "source": [
    "crawler.notebook_metadata_coll"
   ]
  },
  {
   "cell_type": "code",
   "execution_count": 74,
   "metadata": {},
   "outputs": [
    {
     "name": "stdout",
     "output_type": "stream",
     "text": [
      "updated\n"
     ]
    }
   ],
   "source": [
    "if not list(task_log_coll.find()): \n",
    "    # df_pwc_queries = pd.read_csv(QUERY_FILE)\n",
    "    # df_tasks = pd.DataFrame(df_pwc_queries['query'])\n",
    "    # df_tasks['searched'] = 0\n",
    "    # df_tasks['downloaded'] = 0\n",
    "    records = df_tasks.to_dict('records')\n",
    "    crawler.update_task_log(records, task_log_coll)\n",
    "    print('updated')\n"
   ]
  },
  {
   "cell_type": "code",
   "execution_count": 83,
   "metadata": {},
   "outputs": [],
   "source": [
    "df_tasks = pd.DataFrame.from_dict(list(task_log_coll.find()))\n",
    "un_searched = df_tasks.loc[df_tasks.searched==-1]\n",
    "un_downloaded = df_tasks.loc[df_tasks.downloaded==-1]\n",
    "zero_searched = df_tasks.loc[df_tasks.searched==0]\n",
    "zero_downloaded = df_tasks.loc[df_tasks.downloaded==0]\n",
    "\n",
    "print(f'un_searched: {len(un_searched)}')\n",
    "print(f'un_downloaded: {len(un_downloaded)}')\n",
    "print(f'zero_searched: {len(zero_searched)}')\n",
    "print(f'zero_downloaded: {len(zero_downloaded)}')\n"
   ]
  },
  {
   "cell_type": "code",
   "execution_count": 85,
   "metadata": {},
   "outputs": [
    {
     "name": "stdout",
     "output_type": "stream",
     "text": [
      "un_searched: 13839\n",
      "un_downloaded: 14126\n",
      "zero_searched: 24\n",
      "zero_downloaded: 24\n"
     ]
    }
   ],
   "source": [
    "print(f'un_searched: {len(un_searched)}')\n",
    "print(f'un_downloaded: {len(un_downloaded)}')\n",
    "print(f'zero_searched: {len(zero_searched)}')\n",
    "print(f'zero_downloaded: {len(zero_downloaded)}')"
   ]
  },
  {
   "cell_type": "code",
   "execution_count": null,
   "metadata": {},
   "outputs": [],
   "source": []
  }
 ],
 "metadata": {
  "kernelspec": {
   "display_name": "Python 3.8.15 ('notebookcrawler')",
   "language": "python",
   "name": "python3"
  },
  "language_info": {
   "codemirror_mode": {
    "name": "ipython",
    "version": 3
   },
   "file_extension": ".py",
   "mimetype": "text/x-python",
   "name": "python",
   "nbconvert_exporter": "python",
   "pygments_lexer": "ipython3",
   "version": "3.8.15"
  },
  "orig_nbformat": 4,
  "vscode": {
   "interpreter": {
    "hash": "2076af573d6ab8998c539015a7cec6a13ac6cebe5a03794ceab3a6c682895be7"
   }
  }
 },
 "nbformat": 4,
 "nbformat_minor": 2
}
