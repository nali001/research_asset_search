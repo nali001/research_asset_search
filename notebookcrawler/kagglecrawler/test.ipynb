{
 "cells": [
  {
   "cell_type": "code",
   "execution_count": 1,
   "metadata": {},
   "outputs": [],
   "source": [
    "import pandas as pd\n",
    "import json"
   ]
  },
  {
   "cell_type": "code",
   "execution_count": 2,
   "metadata": {},
   "outputs": [],
   "source": [
    "queries = pd.read_csv('../Queries/test_queries.csv')"
   ]
  },
  {
   "cell_type": "code",
   "execution_count": 5,
   "metadata": {},
   "outputs": [
    {
     "data": {
      "text/plain": [
       "[(0, 'MinCut Pooling'),\n",
       " (1, 'Residual GRU'),\n",
       " (2, 'Four-dimensional A-star'),\n",
       " (3, 'Hierarchical Network Dissection'),\n",
       " (4, 'DCLS'),\n",
       " (5, 'Meena'),\n",
       " (6, 'CRF-RNN')]"
      ]
     },
     "execution_count": 5,
     "metadata": {},
     "output_type": "execute_result"
    }
   ],
   "source": [
    "list(enumerate(queries['query']))"
   ]
  },
  {
   "cell_type": "code",
   "execution_count": null,
   "metadata": {},
   "outputs": [],
   "source": []
  }
 ],
 "metadata": {
  "kernelspec": {
   "display_name": "Python 3.8.13 ('notebooksearch')",
   "language": "python",
   "name": "python3"
  },
  "language_info": {
   "codemirror_mode": {
    "name": "ipython",
    "version": 3
   },
   "file_extension": ".py",
   "mimetype": "text/x-python",
   "name": "python",
   "nbconvert_exporter": "python",
   "pygments_lexer": "ipython3",
   "version": "3.8.13"
  },
  "orig_nbformat": 4,
  "vscode": {
   "interpreter": {
    "hash": "bae0182bf86e0b0e1f188bb3e25b1705b4b45c23a398ddc54779b24f1e501416"
   }
  }
 },
 "nbformat": 4,
 "nbformat_minor": 2
}
